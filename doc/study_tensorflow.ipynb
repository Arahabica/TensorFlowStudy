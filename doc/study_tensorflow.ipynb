{
 "cells": [
  {
   "cell_type": "markdown",
   "metadata": {},
   "source": [
    "# Study TensorFlow "
   ]
  },
  {
   "cell_type": "markdown",
   "metadata": {},
   "source": [
    "[公式のGet Started](https://www.tensorflow.org/get_started/get_started) を使って勉強。"
   ]
  },
  {
   "cell_type": "markdown",
   "metadata": {},
   "source": [
    "##  1次方程式の推定"
   ]
  },
  {
   "cell_type": "markdown",
   "metadata": {},
   "source": [
    "### モデルの作成 & 初期値の設定"
   ]
  },
  {
   "cell_type": "code",
   "execution_count": 57,
   "metadata": {
    "collapsed": true
   },
   "outputs": [],
   "source": [
    "import tensorflow as tf\n",
    "\n",
    "W = tf.Variable([.3], tf.float32)\n",
    "b = tf.Variable([-.3], tf.float32)\n",
    "x = tf.placeholder(tf.float32)\n",
    "linear_model = W * x + b\n",
    "\n",
    "init = tf.global_variables_initializer()  # ここで変数を全て初期化"
   ]
  },
  {
   "cell_type": "markdown",
   "metadata": {},
   "source": [
    "$W=0.3$\n",
    "\n",
    "$b=0.3$\n",
    "\n",
    "$linermodel = W * x + b$"
   ]
  },
  {
   "cell_type": "markdown",
   "metadata": {},
   "source": [
    "### モデルに複数の値を代入し、結果を確認"
   ]
  },
  {
   "cell_type": "code",
   "execution_count": 58,
   "metadata": {},
   "outputs": [
    {
     "name": "stdout",
     "output_type": "stream",
     "text": [
      "[ 0.          0.30000001  0.60000002  0.90000004]\n"
     ]
    }
   ],
   "source": [
    "sess = tf.Session()   # 実際の計算のセッションを開始\n",
    "sess.run(init)   # 変数の初期化をセッションに反映\n",
    "print(sess.run(linear_model, {x:[1,2,3,4]}))  # 初期値とxに代入する複数の値に従って、モデルを計算"
   ]
  },
  {
   "cell_type": "markdown",
   "metadata": {},
   "source": [
    "### 損失関数の定義と損失関数への複数の値の代入"
   ]
  },
  {
   "cell_type": "code",
   "execution_count": 59,
   "metadata": {},
   "outputs": [
    {
     "name": "stdout",
     "output_type": "stream",
     "text": [
      "23.66\n"
     ]
    }
   ],
   "source": [
    "y = tf.placeholder(tf.float32)\n",
    "# 損失関数の定義\n",
    "squared_deltas = tf.square(linear_model - y)\n",
    "loss = tf.reduce_sum(squared_deltas)\n",
    "print(sess.run(loss, {x:[1,2,3,4], y:[0,-1,-2,-3]}))"
   ]
  },
  {
   "cell_type": "markdown",
   "metadata": {},
   "source": [
    "### 手動によるパラメータの修正"
   ]
  },
  {
   "cell_type": "code",
   "execution_count": 60,
   "metadata": {},
   "outputs": [
    {
     "name": "stdout",
     "output_type": "stream",
     "text": [
      "0.0\n"
     ]
    }
   ],
   "source": [
    "fixW = tf.assign(W, [-1.])\n",
    "fixb = tf.assign(b, [1.])\n",
    "sess.run([fixW, fixb])  # パラメータの修正\n",
    "print(sess.run(loss, {x:[1,2,3,4], y:[0,-1,-2,-3]}))   # 損失関数, 代入値のlist, 目標値のllist"
   ]
  },
  {
   "cell_type": "markdown",
   "metadata": {},
   "source": [
    "### 勾配降下法による最適化"
   ]
  },
  {
   "cell_type": "code",
   "execution_count": 61,
   "metadata": {},
   "outputs": [
    {
     "name": "stdout",
     "output_type": "stream",
     "text": [
      "[array([-0.9999969], dtype=float32), array([ 0.99999082], dtype=float32)]\n"
     ]
    }
   ],
   "source": [
    "# パラメータを元の値に修正\n",
    "fixW = tf.assign(W, [3.])\n",
    "fixb = tf.assign(b, [3.])\n",
    "sess.run([fixW, fixb])\n",
    "\n",
    "optimizer = tf.train.GradientDescentOptimizer(0.01) #勾配降下法による最適化。0.01は学習率(どれだけパラメータを更新するか)。\n",
    "train = optimizer.minimize(loss)\n",
    "sess.run(init) # reset values to incorrect defaults.\n",
    "for i in range(1000):\n",
    "  sess.run(train, {x:[1,2,3,4], y:[0,-1,-2,-3]})\n",
    "\n",
    "print(sess.run([W, b]))"
   ]
  },
  {
   "cell_type": "markdown",
   "metadata": {},
   "source": [
    "$W=-1, b=1$ という\"解\"にとても近似した結果が得られる。"
   ]
  },
  {
   "cell_type": "markdown",
   "metadata": {},
   "source": [
    "* [TensorFlowのOptimizer](http://qiita.com/TomokIshii/items/f355d8e87d23ee8e0c7a)\n",
    "\n",
    "|   Optimizer name  |  Description   |\n",
    "|:-------------------|:---------------|\n",
    "| GradientDescentOptimizer | 勾配降下法によるオプティマイザー\n",
    "| AdagradOptimizer |  AdaGrad法によるオプティマイザー |\n",
    "| MomentumOptimizer | モメンタム法によるオプティマイザー  |\n",
    "| AdamOptimizer | Adam法 （これも有名ですね．）|\n",
    "| FtrlOptimizer |（初めて耳にしました）\"Follow the Regularized Leader\" アルゴリズム  |\n",
    "| RMSPropOptimizer | （初めて耳にしました）学習率の調整を自動化したアルゴリズム  |"
   ]
  },
  {
   "cell_type": "markdown",
   "metadata": {},
   "source": [
    "### まとめ"
   ]
  },
  {
   "cell_type": "code",
   "execution_count": 62,
   "metadata": {},
   "outputs": [
    {
     "name": "stdout",
     "output_type": "stream",
     "text": [
      "W: [-0.9999969] b: [ 0.99999082] loss: 5.69997e-11\n"
     ]
    }
   ],
   "source": [
    "import numpy as np\n",
    "import tensorflow as tf\n",
    "\n",
    "# Model parameters\n",
    "W = tf.Variable([.3], tf.float32)\n",
    "b = tf.Variable([-.3], tf.float32)\n",
    "# Model input and output\n",
    "x = tf.placeholder(tf.float32)\n",
    "linear_model = W * x + b\n",
    "y = tf.placeholder(tf.float32)\n",
    "# loss\n",
    "loss = tf.reduce_sum(tf.square(linear_model - y)) # sum of the squares\n",
    "# optimizer\n",
    "optimizer = tf.train.GradientDescentOptimizer(0.01)\n",
    "train = optimizer.minimize(loss)\n",
    "# training data\n",
    "x_train = [1,2,3,4]\n",
    "y_train = [0,-1,-2,-3]\n",
    "# training loop\n",
    "init = tf.global_variables_initializer()\n",
    "sess = tf.Session()\n",
    "sess.run(init) # reset values to wrong\n",
    "for i in range(1000):\n",
    "  sess.run(train, {x:x_train, y:y_train})\n",
    "\n",
    "# evaluate training accuracy\n",
    "curr_W, curr_b, curr_loss  = sess.run([W, b, loss], {x:x_train, y:y_train})\n",
    "print(\"W: %s b: %s loss: %s\"%(curr_W, curr_b, curr_loss))"
   ]
  },
  {
   "cell_type": "markdown",
   "metadata": {},
   "source": [
    "## ハイレベルのライブラリを用いた線形回帰の実装"
   ]
  },
  {
   "cell_type": "code",
   "execution_count": 63,
   "metadata": {},
   "outputs": [
    {
     "name": "stdout",
     "output_type": "stream",
     "text": [
      "WARNING:tensorflow:Using temporary folder as model directory: /var/folders/18/d3ht3pyn34l44kfnkbmf_7180000gn/T/tmp_rh20ohk\n",
      "INFO:tensorflow:Using default config.\n",
      "INFO:tensorflow:Using config: {'_task_type': None, '_task_id': 0, '_cluster_spec': <tensorflow.python.training.server_lib.ClusterSpec object at 0x1101e7320>, '_master': '', '_num_ps_replicas': 0, '_environment': 'local', '_is_chief': True, '_evaluation_master': '', '_tf_config': gpu_options {\n",
      "  per_process_gpu_memory_fraction: 1\n",
      "}\n",
      ", '_tf_random_seed': None, '_save_summary_steps': 100, '_save_checkpoints_secs': 600, '_save_checkpoints_steps': None, '_keep_checkpoint_max': 5, '_keep_checkpoint_every_n_hours': 10000}\n",
      "WARNING:tensorflow:Rank of input Tensor (1) should be the same as output_rank (2) for column. Will attempt to expand dims. It is highly recommended that you resize your input, as this behavior may change.\n",
      "WARNING:tensorflow:From /Users/rsasage/.pyenv/versions/3.6.0/envs/hello.tensorflow/lib/python3.6/site-packages/tensorflow/contrib/learn/python/learn/estimators/head.py:1362: scalar_summary (from tensorflow.python.ops.logging_ops) is deprecated and will be removed after 2016-11-30.\n",
      "Instructions for updating:\n",
      "Please switch to tf.summary.scalar. Note that tf.summary.scalar uses the node name instead of the tag. This means that TensorFlow will automatically de-duplicate summary names based on the scope they are created in. Also, passing a tensor or list of tags to a scalar summary op is no longer supported.\n",
      "INFO:tensorflow:Create CheckpointSaverHook.\n",
      "INFO:tensorflow:Saving checkpoints for 1 into /var/folders/18/d3ht3pyn34l44kfnkbmf_7180000gn/T/tmp_rh20ohk/model.ckpt.\n",
      "INFO:tensorflow:loss = 5.5, step = 1\n",
      "INFO:tensorflow:global_step/sec: 1218.7\n",
      "INFO:tensorflow:loss = 0.0383572, step = 101\n",
      "INFO:tensorflow:global_step/sec: 1244.54\n",
      "INFO:tensorflow:loss = 0.0194438, step = 201\n",
      "INFO:tensorflow:global_step/sec: 1217.49\n",
      "INFO:tensorflow:loss = 0.00430955, step = 301\n",
      "INFO:tensorflow:global_step/sec: 1203.62\n",
      "INFO:tensorflow:loss = 0.000469457, step = 401\n",
      "INFO:tensorflow:global_step/sec: 1135.02\n",
      "INFO:tensorflow:loss = 0.000141946, step = 501\n",
      "INFO:tensorflow:global_step/sec: 1153.11\n",
      "INFO:tensorflow:loss = 3.32285e-05, step = 601\n",
      "INFO:tensorflow:global_step/sec: 1294.05\n",
      "INFO:tensorflow:loss = 8.50464e-06, step = 701\n",
      "INFO:tensorflow:global_step/sec: 1370.79\n",
      "INFO:tensorflow:loss = 4.22312e-06, step = 801\n",
      "INFO:tensorflow:global_step/sec: 1559.3\n",
      "INFO:tensorflow:loss = 3.63114e-07, step = 901\n",
      "INFO:tensorflow:Saving checkpoints for 1000 into /var/folders/18/d3ht3pyn34l44kfnkbmf_7180000gn/T/tmp_rh20ohk/model.ckpt.\n",
      "INFO:tensorflow:Loss for final step: 1.83736e-07.\n",
      "WARNING:tensorflow:Rank of input Tensor (1) should be the same as output_rank (2) for column. Will attempt to expand dims. It is highly recommended that you resize your input, as this behavior may change.\n",
      "WARNING:tensorflow:From /Users/rsasage/.pyenv/versions/3.6.0/envs/hello.tensorflow/lib/python3.6/site-packages/tensorflow/contrib/learn/python/learn/estimators/head.py:1362: scalar_summary (from tensorflow.python.ops.logging_ops) is deprecated and will be removed after 2016-11-30.\n",
      "Instructions for updating:\n",
      "Please switch to tf.summary.scalar. Note that tf.summary.scalar uses the node name instead of the tag. This means that TensorFlow will automatically de-duplicate summary names based on the scope they are created in. Also, passing a tensor or list of tags to a scalar summary op is no longer supported.\n",
      "INFO:tensorflow:Starting evaluation at 2017-04-09-10:03:34\n",
      "INFO:tensorflow:Finished evaluation at 2017-04-09-10:03:34\n",
      "INFO:tensorflow:Saving dict for global step 1000: global_step = 1000, loss = 1.80928e-07\n",
      "WARNING:tensorflow:Skipping summary for global_step, must be a float or np.float32.\n"
     ]
    },
    {
     "data": {
      "text/plain": [
       "{'global_step': 1000, 'loss': 1.8092764e-07}"
      ]
     },
     "execution_count": 63,
     "metadata": {},
     "output_type": "execute_result"
    }
   ],
   "source": [
    "#import tensorflow as tf\n",
    "# NumPy is often used to load, manipulate and preprocess data.\n",
    "#import numpy as np\n",
    "\n",
    "# Declare list of features. We only have one real-valued feature. There are many\n",
    "# other types of columns that are more complicated and useful.\n",
    "features = [tf.contrib.layers.real_valued_column(\"x\", dimension=1)]\n",
    "\n",
    "# An estimator is the front end to invoke training (fitting) and evaluation\n",
    "# (inference). There are many predefined types like linear regression,\n",
    "# logistic regression, linear classification, logistic classification, and\n",
    "# many neural network classifiers and regressors. The following code\n",
    "# provides an estimator that does linear regression.\n",
    "estimator = tf.contrib.learn.LinearRegressor(feature_columns=features)\n",
    "\n",
    "# TensorFlow provides many helper methods to read and set up data sets.\n",
    "# Here we use `numpy_input_fn`. We have to tell the function how many batches\n",
    "# of data (num_epochs) we want and how big each batch should be.\n",
    "x = np.array([1., 2., 3., 4.])\n",
    "y = np.array([0., -1., -2., -3.])\n",
    "input_fn = tf.contrib.learn.io.numpy_input_fn({\"x\":x}, y, batch_size=4,\n",
    "                                              num_epochs=1000)\n",
    "\n",
    "# We can invoke 1000 training steps by invoking the `fit` method and passing the\n",
    "# training data set.\n",
    "estimator.fit(input_fn=input_fn, steps=1000)\n",
    "\n",
    "# Here we evaluate how well our model did. In a real example, we would want\n",
    "# to use a separate validation and testing data set to avoid overfitting.\n",
    "estimator.evaluate(input_fn=input_fn)"
   ]
  },
  {
   "cell_type": "markdown",
   "metadata": {},
   "source": [
    "### ローレベルAPIを用いてハイレベルAPIのモデルを生成する方法"
   ]
  },
  {
   "cell_type": "code",
   "execution_count": 64,
   "metadata": {},
   "outputs": [
    {
     "name": "stdout",
     "output_type": "stream",
     "text": [
      "WARNING:tensorflow:Using temporary folder as model directory: /var/folders/18/d3ht3pyn34l44kfnkbmf_7180000gn/T/tmps_qvath2\n",
      "INFO:tensorflow:Using default config.\n",
      "INFO:tensorflow:Using config: {'_task_type': None, '_task_id': 0, '_cluster_spec': <tensorflow.python.training.server_lib.ClusterSpec object at 0x10cde4da0>, '_master': '', '_num_ps_replicas': 0, '_environment': 'local', '_is_chief': True, '_evaluation_master': '', '_tf_config': gpu_options {\n",
      "  per_process_gpu_memory_fraction: 1\n",
      "}\n",
      ", '_tf_random_seed': None, '_save_summary_steps': 100, '_save_checkpoints_secs': 600, '_save_checkpoints_steps': None, '_keep_checkpoint_max': 5, '_keep_checkpoint_every_n_hours': 10000}\n",
      "INFO:tensorflow:Create CheckpointSaverHook.\n",
      "INFO:tensorflow:Saving checkpoints for 1 into /var/folders/18/d3ht3pyn34l44kfnkbmf_7180000gn/T/tmps_qvath2/model.ckpt.\n",
      "INFO:tensorflow:loss = 1.02906037593, step = 1\n",
      "INFO:tensorflow:global_step/sec: 1141.5\n",
      "INFO:tensorflow:loss = 0.364970988348, step = 101\n",
      "INFO:tensorflow:global_step/sec: 879.608\n",
      "INFO:tensorflow:loss = 0.0233165410683, step = 201\n",
      "INFO:tensorflow:global_step/sec: 818.318\n",
      "INFO:tensorflow:loss = 0.00203492114697, step = 301\n",
      "INFO:tensorflow:global_step/sec: 997.646\n",
      "INFO:tensorflow:loss = 9.56984959219e-05, step = 401\n",
      "INFO:tensorflow:global_step/sec: 1046.12\n",
      "INFO:tensorflow:loss = 8.26442983532e-06, step = 501\n",
      "INFO:tensorflow:global_step/sec: 1028.08\n",
      "INFO:tensorflow:loss = 2.3783757871e-07, step = 601\n",
      "INFO:tensorflow:global_step/sec: 1049.52\n",
      "INFO:tensorflow:loss = 6.12473787812e-08, step = 701\n",
      "INFO:tensorflow:global_step/sec: 1344.13\n",
      "INFO:tensorflow:loss = 2.68982122106e-09, step = 801\n",
      "INFO:tensorflow:global_step/sec: 1864.42\n",
      "INFO:tensorflow:loss = 3.79174705361e-10, step = 901\n",
      "INFO:tensorflow:Saving checkpoints for 1000 into /var/folders/18/d3ht3pyn34l44kfnkbmf_7180000gn/T/tmps_qvath2/model.ckpt.\n",
      "INFO:tensorflow:Loss for final step: 2.98779178207e-11.\n",
      "INFO:tensorflow:Starting evaluation at 2017-04-09-10:03:37\n",
      "INFO:tensorflow:Evaluation [1/10]\n",
      "INFO:tensorflow:Evaluation [2/10]\n",
      "INFO:tensorflow:Evaluation [3/10]\n",
      "INFO:tensorflow:Evaluation [4/10]\n",
      "INFO:tensorflow:Evaluation [5/10]\n",
      "INFO:tensorflow:Evaluation [6/10]\n",
      "INFO:tensorflow:Evaluation [7/10]\n",
      "INFO:tensorflow:Evaluation [8/10]\n",
      "INFO:tensorflow:Evaluation [9/10]\n",
      "INFO:tensorflow:Evaluation [10/10]\n",
      "INFO:tensorflow:Finished evaluation at 2017-04-09-10:03:37\n",
      "INFO:tensorflow:Saving dict for global step 1000: global_step = 1000, loss = 4.34063e-11\n",
      "WARNING:tensorflow:Skipping summary for global_step, must be a float or np.float32.\n",
      "{'loss': 4.3406306e-11, 'global_step': 1000}\n"
     ]
    }
   ],
   "source": [
    "import numpy as np\n",
    "import tensorflow as tf\n",
    "# Declare list of features, we only have one real-valued feature\n",
    "def model(features, labels, mode):\n",
    "  # Build a linear model and predict values\n",
    "  W = tf.get_variable(\"W\", [1], dtype=tf.float64)\n",
    "  b = tf.get_variable(\"b\", [1], dtype=tf.float64)\n",
    "  y = W*features['x'] + b\n",
    "  # Loss sub-graph\n",
    "  loss = tf.reduce_sum(tf.square(y - labels))\n",
    "  # Training sub-graph\n",
    "  global_step = tf.train.get_global_step()\n",
    "  optimizer = tf.train.GradientDescentOptimizer(0.01)\n",
    "  train = tf.group(optimizer.minimize(loss),\n",
    "                   tf.assign_add(global_step, 1))\n",
    "  # ModelFnOps connects subgraphs we built to the\n",
    "  # appropriate functionality.\n",
    "  return tf.contrib.learn.ModelFnOps(\n",
    "      mode=mode, predictions=y,\n",
    "      loss=loss,\n",
    "      train_op=train)\n",
    "\n",
    "estimator = tf.contrib.learn.Estimator(model_fn=model)\n",
    "# define our data set\n",
    "x = np.array([1., 2., 3., 4.])\n",
    "y = np.array([0., -1., -2., -3.])\n",
    "input_fn = tf.contrib.learn.io.numpy_input_fn({\"x\": x}, y, 4, num_epochs=1000)\n",
    "\n",
    "# train\n",
    "estimator.fit(input_fn=input_fn, steps=1000)\n",
    "# evaluate our model\n",
    "print(estimator.evaluate(input_fn=input_fn, steps=10))"
   ]
  }
 ],
 "metadata": {
  "kernelspec": {
   "display_name": "Python 3",
   "language": "python",
   "name": "python3"
  },
  "language_info": {
   "codemirror_mode": {
    "name": "ipython",
    "version": 3.0
   },
   "file_extension": ".py",
   "mimetype": "text/x-python",
   "name": "python",
   "nbconvert_exporter": "python",
   "pygments_lexer": "ipython3",
   "version": "3.6.0"
  }
 },
 "nbformat": 4,
 "nbformat_minor": 0
}